{
 "cells": [
  {
   "cell_type": "markdown",
   "id": "845635d0",
   "metadata": {},
   "source": [
    "# Trip Planner — Evaluation Interface Demo\n",
    "\n",
    "This notebook demonstrates the minimal evaluation interface you can import from `trip_planner.session`.\n",
    "\n",
    "It covers:\n",
    "- **What** interfaces are designed\n",
    "- **Why** we designed them this way\n",
    "- **How** evaluators should use them in practice\n"
   ]
  },
  {
   "cell_type": "markdown",
   "id": "45daf20c",
   "metadata": {},
   "source": [
    "## 1) What interfaces are designed\n",
    "\n",
    "We expose a single lightweight class: **`Session`**.\n",
    "\n",
    "**Constructor**  \n",
    "```python\n",
    "from trip_planner.session import Session\n",
    "\n",
    "# Create a new session (with background info as memory index 0)\n",
    "sess = Session(background_info: str)\n",
    "\n",
    "# Load an existing session by ID\n",
    "sess = Session(session_id: str)\n"
   ]
  },
  {
   "cell_type": "markdown",
   "id": "2d1e72b6",
   "metadata": {},
   "source": [
    "**Arguments**\n",
    "\n",
    "1. background_info: initial user profile / background description. Stored as history item (mem_index=0) and inserted into session-scoped long-term memory (LTM) with kind=\"profile\" so it is retrievable.\n",
    "\n",
    "2. session_id: if provided, the constructor loads persisted history + memory from disk.\n",
    "\n",
    "**Methods**\n",
    "\n",
    "```python\n",
    "sess.append_message(content: str, owner: Literal[\"user\",\"agent\"]) -> None\n",
    "sess.get_history() -> List[Dict]\n",
    "sess.chat(user_request: str, context_size: int = 6, use_ltm: bool = True, store_to_cache: bool = False, verbose: bool = False) -> str\n",
    "```\n",
    "\n",
    "1. append_message: Replay dataset turns (both user and agent) verbatim, without calling the model. Each appended message gets a mem_index (0-based, where 0 is background).\n",
    "\n",
    "2. get_history: Returns a list of message records with minimal provenance fields: {mem_index, owner, content, gen_by_engine, context_size, use_ltm, memory_injected, use_tools}\n",
    "\n",
    "3. chat: One agent turn. Controls context trimming (context_size), toggles LTM retrieval (use_ltm), and optionally writes a compact Q/A summary to LTM (store_to_cache). Returns the agent’s response."
   ]
  },
  {
   "cell_type": "markdown",
   "id": "6d683345",
   "metadata": {},
   "source": [
    "## 2) Why we designed it this way\n",
    "\n",
    "**Simplicity & Reproducibility**\n",
    "- Evaluation is **session-level** (no cross-session leakage) to compare `use_ltm=True` vs `False` fairly.\n",
    "- One class (`Session`) covers create/load/append/chat to minimize moving parts.\n",
    "\n",
    "**Deterministic context policy**\n",
    "- `context_size` is enforced via a deterministic trimming policy (implemented in `context.trim_context`).\n",
    "\n",
    "**Unified long-term memory**\n",
    "- Background info is stored as `mem_index=0` and also written to a session-scoped LTM as `kind=\"profile\"` so it can be retrieved when relevant.\n",
    "- The same LTM is optionally updated with compact Q/A summaries when `store_to_cache=True`.\n",
    "\n",
    "**Traceability**\n",
    "- Every generated agent message is stored with `gen_by_engine=True` and lists `memory_injected` mem_indices (e.g., includes `0` if background was retrieved), plus `use_tools` information.\n"
   ]
  },
  {
   "cell_type": "markdown",
   "id": "b91f72fc",
   "metadata": {},
   "source": [
    "## 3) How evaluators should use it"
   ]
  },
  {
   "cell_type": "code",
   "execution_count": 1,
   "id": "601cde9b",
   "metadata": {},
   "outputs": [],
   "source": [
    "import os\n",
    "\n",
    "os.chdir(\"..\")"
   ]
  },
  {
   "cell_type": "markdown",
   "id": "53d06da4",
   "metadata": {},
   "source": [
    "### A. Create or load a session\n",
    "- For a fresh run, provide `background_info` once.  \n",
    "- For resuming, pass `session_id`."
   ]
  },
  {
   "cell_type": "code",
   "execution_count": 2,
   "id": "59ea77c3",
   "metadata": {},
   "outputs": [
    {
     "data": {
      "text/plain": [
       "'s_1b4c29ef'"
      ]
     },
     "execution_count": 2,
     "metadata": {},
     "output_type": "execute_result"
    }
   ],
   "source": [
    "from backend.trip_planner.session import Session\n",
    "\n",
    "# Fresh session with background (mem_index = 0)\n",
    "sess = Session(background_info=\"User Name: Alice. Prefers quiet places and local food.\")\n",
    "sess_id = sess.session_id\n",
    "sess_id"
   ]
  },
  {
   "cell_type": "markdown",
   "id": "f471fe3c",
   "metadata": {},
   "source": [
    "### B. Preload conversation history\n",
    "If your dataset includes prior turns, you can **replay** them without calling the model:\n"
   ]
  },
  {
   "cell_type": "code",
   "execution_count": 3,
   "id": "884f93f4",
   "metadata": {},
   "outputs": [
    {
     "data": {
      "text/plain": [
       "[{'mem_index': 0,\n",
       "  'owner': 'user',\n",
       "  'content': 'We will land in Tokyo on Friday evening.',\n",
       "  'gen_by_engine': False,\n",
       "  'context_size': 0,\n",
       "  'use_ltm': False,\n",
       "  'memory_injected': [],\n",
       "  'use_tools': []},\n",
       " {'mem_index': 1,\n",
       "  'owner': 'agent',\n",
       "  'content': 'Great. Do you need late-night dining options near your hotel?',\n",
       "  'gen_by_engine': False,\n",
       "  'context_size': 0,\n",
       "  'use_ltm': False,\n",
       "  'memory_injected': [],\n",
       "  'use_tools': []}]"
      ]
     },
     "execution_count": 3,
     "metadata": {},
     "output_type": "execute_result"
    }
   ],
   "source": [
    "sess.append_message(\"We will land in Tokyo on Friday evening.\", owner=\"user\")\n",
    "sess.append_message(\"Great. Do you need late-night dining options near your hotel?\", owner=\"agent\")\n",
    "sess.get_history()"
   ]
  },
  {
   "cell_type": "markdown",
   "id": "4bea5a52",
   "metadata": {},
   "source": [
    "### C. Run a turn with and without LTM\n",
    "Use the exact same context size to compare the impact of retrieval.\n"
   ]
  },
  {
   "cell_type": "code",
   "execution_count": 4,
   "id": "47002a57",
   "metadata": {},
   "outputs": [
    {
     "name": "stdout",
     "output_type": "stream",
     "text": [
      "\n",
      "[Mem] query: 'Plan a 1-day Kyoto route avoiding crowds.'\n",
      "[Mem] alpha= 0.7 min_sim= 0.55 half_life_days= 14.0\n",
      "[Mem] ---- top candidates ----\n",
      "[Mem] rank |  cos   kw    td    fused | pass | preview\n",
      "[Mem]  1   |  0.30  0.08  1.00  0.232 |  X   | Q: We will land in Tokyo on Friday evening. A: Great. Do you need late-night din...\n",
      "[Mem]  2   |  0.19  0.00  1.00  0.130 |  X   | User Name: Alice. Prefers quiet places and local food....\n",
      "[Mem] no items >= min_sim(0.55); fallback to top-4.\n",
      "[Mem] returned 2 item(s) with fused scores: [0.232, 0.130]\n",
      "\n",
      "[INFO] search_tool is called. Executing...\n",
      "\n",
      "With LTM:\n",
      " Here's a suggested 1-day itinerary for Kyoto that focuses on quieter spots and local experiences:\n",
      "\n",
      "### Morning\n",
      "1. **Arashiyama Bamboo Grove**: Start early to enjoy the serene atmosphere. Arrive before 8 AM to avoid crowds.\n",
      "2. **Tenryu-ji Temple**: Visit this UNESCO World Heritage site nearby. Explore the gardens and enjoy the tranquility.\n",
      "\n",
      "### Late Morning\n",
      "3. **Okochi Sanso Villa**: A short walk from the bamboo grove, this villa offers beautiful gardens and a peaceful environment. \n",
      "\n",
      "### Lunch\n",
      "4. **Local Eatery in Arashiyama**: Try a local soba or udon restaurant for an authentic meal.\n",
      "\n",
      "### Afternoon\n",
      "5. **Philosopher's Path**: Stroll along this picturesque canal path lined with cherry trees. Visit small temples along the way, like Nanzen-ji, which is often less crowded.\n",
      "6. **Ginkaku-ji (Sil ...\n",
      "\n",
      "\n",
      "\n",
      "Without LTM:\n",
      " Here's a suggested 1-day route in Kyoto that focuses on less crowded spots:\n",
      "\n",
      "### Morning\n",
      "1. **Philosopher's Path**: Start your day early with a peaceful walk along this scenic canal lined with cherry trees. It's less crowded in the morning.\n",
      "2. **Ginkaku-ji (Silver Pavilion)**: Visit this beautiful Zen temple, which is often quieter than its more famous counterparts.\n",
      "\n",
      "### Lunch\n",
      "3. **Nanzen-ji Temple**: Head to this large temple complex. Enjoy a quiet lunch at a nearby café or bring a bento box to enjoy in the gardens.\n",
      "\n",
      "### Afternoon\n",
      "4. **Eikan-do Zenrin-ji**: Explore this temple known for its stunning autumn foliage and beautiful gardens, usually less crowded than other temples.\n",
      "5. **Otagi Nenbutsu-ji**: Visit this lesser-known temple featuring over 1,200 unique stone statues. It's a hidden ...\n",
      "\n"
     ]
    }
   ],
   "source": [
    "resp_ltm_on  = sess.chat(\"Plan a 1-day Kyoto route avoiding crowds.\", context_size=6, use_ltm=True,  store_to_cache=False, verbose=True)\n",
    "print(\"\\nWith LTM:\\n\", resp_ltm_on[\"content\"][:800], \"...\\n\\n\")\n",
    "\n",
    "resp_ltm_off = sess.chat(\"Plan a 1-day Kyoto route avoiding crowds.\", context_size=6, use_ltm=False, store_to_cache=True, verbose=False)\n",
    "print(\"\\nWithout LTM:\\n\", resp_ltm_off[\"content\"][:800], \"...\\n\")"
   ]
  },
  {
   "cell_type": "markdown",
   "id": "9f5c2562",
   "metadata": {},
   "source": [
    "### D. Inspect history with provenance\n",
    "Each message record keeps minimal but sufficient fields for grading and analysis."
   ]
  },
  {
   "cell_type": "code",
   "execution_count": 5,
   "id": "f787cfab",
   "metadata": {},
   "outputs": [
    {
     "data": {
      "text/plain": [
       "[{'mem_index': 0,\n",
       "  'owner': 'user',\n",
       "  'content': 'We will land in Tokyo on Friday evening.',\n",
       "  'gen_by_engine': False,\n",
       "  'context_size': 0,\n",
       "  'use_ltm': False,\n",
       "  'memory_injected': [],\n",
       "  'use_tools': []},\n",
       " {'mem_index': 1,\n",
       "  'owner': 'agent',\n",
       "  'content': 'Great. Do you need late-night dining options near your hotel?',\n",
       "  'gen_by_engine': False,\n",
       "  'context_size': 0,\n",
       "  'use_ltm': False,\n",
       "  'memory_injected': [],\n",
       "  'use_tools': []},\n",
       " {'mem_index': 2,\n",
       "  'owner': 'user',\n",
       "  'content': 'Plan a 1-day Kyoto route avoiding crowds.',\n",
       "  'gen_by_engine': False,\n",
       "  'context_size': 0,\n",
       "  'use_ltm': False,\n",
       "  'memory_injected': [],\n",
       "  'use_tools': []},\n",
       " {'mem_index': 2,\n",
       "  'owner': 'agent',\n",
       "  'content': \"Here's a suggested 1-day route in Kyoto that focuses on less crowded spots:\\n\\n### Morning\\n1. **Philosopher's Path**: Start your day early with a peaceful walk along this scenic canal lined with cherry trees. It's less crowded in the morning.\\n2. **Ginkaku-ji (Silver Pavilion)**: Visit this beautiful Zen temple, which is often quieter than its more famous counterparts.\\n\\n### Lunch\\n3. **Nanzen-ji Temple**: Head to this large temple complex. Enjoy a quiet lunch at a nearby café or bring a bento box to enjoy in the gardens.\\n\\n### Afternoon\\n4. **Eikan-do Zenrin-ji**: Explore this temple known for its stunning autumn foliage and beautiful gardens, usually less crowded than other temples.\\n5. **Otagi Nenbutsu-ji**: Visit this lesser-known temple featuring over 1,200 unique stone statues. It's a hidden gem with a tranquil atmosphere.\\n\\n### Evening\\n6. **Arashiyama Bamboo Grove**: Visit in the late afternoon when the crowds thin out. Walk through the serene bamboo forest.\\n7. **Dinner in Arashiyama**: Enjoy a meal at a local restaurant, perhaps trying yudofu (tofu hot pot), a specialty of the area.\\n\\n### Weather\\nExpect light drizzle with temperatures between 20°C and 23.5°C, so bring an umbrella and dress accordingly.\\n\\nThis route should help you enjoy Kyoto's beauty while avoiding the busiest tourist spots.\",\n",
       "  'gen_by_engine': True,\n",
       "  'context_size': 6,\n",
       "  'use_ltm': False,\n",
       "  'memory_injected': [],\n",
       "  'use_tools': [{'name': 'search_tool',\n",
       "    'output': '[search] No concise result for: best places to visit in Kyoto avoiding crowds. Try rephrasing or a more specific query.'},\n",
       "   {'name': 'weather_tool',\n",
       "    'output': 'Weather in Kyoto (Japan) on 2025-10-15: light drizzle, min 20.0°C / max 23.5°C, precip 0.4mm.'},\n",
       "   {'name': 'search_tool',\n",
       "    'output': '[search] No concise result for: hidden gems in Kyoto. Try rephrasing or a more specific query.'}]}]"
      ]
     },
     "execution_count": 5,
     "metadata": {},
     "output_type": "execute_result"
    }
   ],
   "source": [
    "sess.get_history()"
   ]
  },
  {
   "cell_type": "markdown",
   "id": "463e1b3d",
   "metadata": {},
   "source": [
    "### E. Resume later\n",
    "You can restore the session at any time by ID (history and LTM are persisted on disk under `./eval_runs/sessions/<session_id>/`)."
   ]
  },
  {
   "cell_type": "code",
   "execution_count": 6,
   "id": "56cd2b27",
   "metadata": {},
   "outputs": [
    {
     "data": {
      "text/plain": [
       "4"
      ]
     },
     "execution_count": 6,
     "metadata": {},
     "output_type": "execute_result"
    }
   ],
   "source": [
    "# Rehydrate a previous run\n",
    "sess2 = Session(session_id=sess_id, root=\"./eval_runs\")\n",
    "len(sess2.get_history())"
   ]
  },
  {
   "cell_type": "code",
   "execution_count": 7,
   "id": "eda13408",
   "metadata": {},
   "outputs": [
    {
     "data": {
      "text/plain": [
       "[MemoryItem(id='1760465352349', kind='profile', text='User Name: Alice. Prefers quiet places and local food.', created_at=1760465352.3494582, meta={'mem_index': 0}),\n",
       " MemoryItem(id='1760465352954', kind='turn', text='Q: We will land in Tokyo on Friday evening.\\nA: Great. Do you need late-night dining options near your hotel?', created_at=1760465352.9546313, meta={'mem_index': 1}),\n",
       " MemoryItem(id='1760465378895', kind='turn', text=\"Q: Plan a 1-day Kyoto route avoiding crowds.\\nA: Here's a suggested 1-day route in Kyoto that focuses on less crowded spots:\\n\\n### Morning\\n1. **Philosopher's Path**: Start your day early with a peaceful walk along this scenic canal lined with cherry trees. It's less crowded in the morning.\\n2. **Ginkaku-ji (Silver Pavilion)**: Visit this beautiful Zen temple, which is often quieter than its more famous counterparts.\\n\\n### Lunch\\n3. **Nanzen-ji Temple**: Head to this large temple complex. Enjoy a quiet lunch at a nearby café or bring a bento box to enjoy in the gardens.\\n\\n### Afternoon\\n4. **Eikan-do Zenrin-ji**: Explore this temple known for its stunning autumn foliage and beautiful gardens, usually less crowded than other temples.\\n5. **Otagi Nenbutsu-ji**: Visit this lesser-known temple featurin\", created_at=1760465378.8951333, meta={'mem_index': 2})]"
      ]
     },
     "execution_count": 7,
     "metadata": {},
     "output_type": "execute_result"
    }
   ],
   "source": [
    "sess2.mem._items"
   ]
  }
 ],
 "metadata": {
  "kernelspec": {
   "display_name": "Python 3",
   "language": "python",
   "name": "python3"
  },
  "language_info": {
   "codemirror_mode": {
    "name": "ipython",
    "version": 3
   },
   "file_extension": ".py",
   "mimetype": "text/x-python",
   "name": "python",
   "nbconvert_exporter": "python",
   "pygments_lexer": "ipython3",
   "version": "3.10.12"
  }
 },
 "nbformat": 4,
 "nbformat_minor": 5
}
